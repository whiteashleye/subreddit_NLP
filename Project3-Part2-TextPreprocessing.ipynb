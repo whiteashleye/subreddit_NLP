{
 "cells": [
  {
   "cell_type": "code",
   "execution_count": 1,
   "metadata": {},
   "outputs": [],
   "source": [
    "import pandas as pd\n",
    "import requests \n",
    "import time\n",
    "import datetime as dt\n",
    "import regex as re\n",
    "\n",
    "from nltk.corpus import stopwords\n",
    "from bs4 import BeautifulSoup\n",
    "from sklearn.linear_model import LogisticRegression\n",
    "from sklearn.neighbors import KNeighborsClassifier\n",
    "from sklearn.tree import DecisionTreeClassifier\n",
    "from sklearn.ensemble import BaggingClassifier, RandomForestClassifier\n",
    "from sklearn.ensemble import AdaBoostClassifier\n",
    "from sklearn.model_selection import GridSearchCV, KFold, cross_val_score\n",
    "from sklearn.model_selection import train_test_split, cross_val_score\n",
    "from sklearn.preprocessing import StandardScaler\n",
    "from nltk.stem import WordNetLemmatizer\n",
    "from nltk.stem.porter import PorterStemmer\n",
    "from bs4 import BeautifulSoup \n",
    "from sklearn.feature_extraction.text import CountVectorizer, TfidfVectorizer\n",
    "from sklearn.feature_extraction import stop_words"
   ]
  },
  {
   "cell_type": "code",
   "execution_count": 2,
   "metadata": {},
   "outputs": [],
   "source": [
    "# Read in data and drop 'unnamed: 0' column\n",
    "df = pd.read_csv('./communism_socialism.csv').drop(columns='Unnamed: 0')"
   ]
  },
  {
   "cell_type": "markdown",
   "metadata": {},
   "source": [
    "## <font color = orchid> Clean & Pre-Process Text </font>"
   ]
  },
  {
   "cell_type": "code",
   "execution_count": 3,
   "metadata": {},
   "outputs": [],
   "source": [
    "# Drop rows with empty title\n",
    "df = df[df['title'] != '']\n",
    "\n",
    "# Fill '[removed]' with blank\n",
    "df.loc[df['selftext'] == '[removed]', 'selftext'] = ' '\n",
    "df.loc[df['selftext'] == '[deleted]', 'selftext'] = ' '\n",
    "df.loc[df['selftext'] == '\\[removed\\]', 'selftext'] = ' '\n",
    "df.loc[df['selftext'] == '&amp;#x200B;', 'selftext'] = ' '\n",
    "\n",
    "# Fill nan with blank\n",
    "df['selftext'].fillna('', inplace = True)\n",
    "\n",
    "# Drop rows that have been deleted by moderators\n",
    "df = df[~df['selftext'].str.contains(\"Feel free to discuss\")]\n",
    "df.reset_index(drop=True, inplace=True)"
   ]
  },
  {
   "cell_type": "code",
   "execution_count": 4,
   "metadata": {},
   "outputs": [],
   "source": [
    "# Remove hyperlinks and \\n line breaks from selftext\n",
    "for i in range(0, len(df)):\n",
    "    df.loc[i, 'selftext'] = re.sub('(http)\\S*', ' ', str(df.loc[i, 'selftext']))\n",
    "\n",
    "    df.loc[i, 'selftext'] = re.sub('\\\\n', ' ', str(df.loc[i, 'selftext']))\n",
    "    \n",
    "    df.loc[i, 'selftext'] = re.sub('\\[(link)\\]', ' ', str(df.loc[i, 'selftext']))\n",
    "    \n",
    "    df.loc[i, 'selftext'] = re.sub('(&gt)', ' ', str(df.loc[i, 'selftext']))"
   ]
  },
  {
   "cell_type": "code",
   "execution_count": 5,
   "metadata": {},
   "outputs": [],
   "source": [
    "# Code borrowed from Riley Intro to NLP Part I lesson\n",
    "def clean_text(raw):\n",
    "    # Intantiate lemmatizer\n",
    "    lemmatizer = WordNetLemmatizer()\n",
    "    \n",
    "    # Remove non-letter characters\n",
    "    letters_only = re.sub('[^a-zA-z]', ' ', raw)\n",
    "    \n",
    "    # Convert string to lower case\n",
    "    lower_only = letters_only.lower().split()\n",
    "    \n",
    "    # Lemmatize words in lower_only string\n",
    "    lemm_words = [lemmatizer.lemmatize(i) for i in lower_only]\n",
    "    \n",
    "    # Return cleaned words if not in stopwords\n",
    "    words = [w for w in lemm_words]\n",
    "    \n",
    "    # Return clean words and join with space\n",
    "    return(\" \".join(words))"
   ]
  },
  {
   "cell_type": "code",
   "execution_count": 6,
   "metadata": {},
   "outputs": [],
   "source": [
    "# Clean title & selftext\n",
    "for i in range(0, len(df)):\n",
    "    df.loc[i, 'title'] = clean_text(str(df.loc[i, 'title']))\n",
    "    df.loc[i, 'selftext'] = clean_text(str(df.loc[i, 'selftext']))"
   ]
  },
  {
   "cell_type": "code",
   "execution_count": 7,
   "metadata": {},
   "outputs": [],
   "source": [
    "# Create one combined_text column to clean\n",
    "df['combined_text'] = df['title'] + \" \" + df['selftext']"
   ]
  },
  {
   "cell_type": "code",
   "execution_count": 8,
   "metadata": {},
   "outputs": [
    {
     "data": {
      "text/plain": [
       "(7461, 10)"
      ]
     },
     "execution_count": 8,
     "metadata": {},
     "output_type": "execute_result"
    }
   ],
   "source": [
    "df.shape"
   ]
  },
  {
   "cell_type": "code",
   "execution_count": 9,
   "metadata": {},
   "outputs": [
    {
     "data": {
      "text/plain": [
       "(5649, 11)"
      ]
     },
     "execution_count": 9,
     "metadata": {},
     "output_type": "execute_result"
    }
   ],
   "source": [
    "# Drop rows with less than 10 words\n",
    "df['word_count'] = df['combined_text'].apply(lambda x: len(x.split()))\n",
    "\n",
    "df.reset_index(drop=True, inplace=True)\n",
    "\n",
    "df = df[df['word_count'] > 10 ]\n",
    "\n",
    "df.shape"
   ]
  },
  {
   "cell_type": "code",
   "execution_count": 10,
   "metadata": {},
   "outputs": [],
   "source": [
    "# Convert 'subreddit' to binary values >> 'communism' = 1 | 'socialism' = 0\n",
    "df['subreddit'] = df['subreddit'].map(lambda x: 1 if x == 'communism' else 0)"
   ]
  },
  {
   "cell_type": "code",
   "execution_count": 11,
   "metadata": {},
   "outputs": [
    {
     "data": {
      "text/plain": [
       "0    0.549124\n",
       "1    0.450876\n",
       "Name: subreddit, dtype: float64"
      ]
     },
     "execution_count": 11,
     "metadata": {},
     "output_type": "execute_result"
    }
   ],
   "source": [
    "# Establish baseline\n",
    "df['subreddit'].value_counts(normalize = True)"
   ]
  },
  {
   "cell_type": "code",
   "execution_count": 12,
   "metadata": {},
   "outputs": [],
   "source": [
    "df_communism = df[df['subreddit'] == 1]\n",
    "df_socialism = df[df['subreddit'] == 0]"
   ]
  },
  {
   "cell_type": "markdown",
   "metadata": {},
   "source": [
    "## <font color = orchid> Train / Test Split </font>"
   ]
  },
  {
   "cell_type": "code",
   "execution_count": 13,
   "metadata": {},
   "outputs": [],
   "source": [
    "# Set features and target\n",
    "features = ['combined_text']\n",
    "X = df[features]\n",
    "y = df['subreddit']"
   ]
  },
  {
   "cell_type": "code",
   "execution_count": 14,
   "metadata": {},
   "outputs": [],
   "source": [
    "# Create train / test split\n",
    "X_train, X_test, y_train, y_test = train_test_split(X, y, shuffle = True, random_state = 50)"
   ]
  },
  {
   "cell_type": "markdown",
   "metadata": {},
   "source": [
    "## <font color = orchid> Vectorize Data (Train / Test) </font>"
   ]
  },
  {
   "cell_type": "code",
   "execution_count": 15,
   "metadata": {},
   "outputs": [],
   "source": [
    "# Add new stopwords\n",
    "from sklearn.feature_extraction import text\n",
    "new_stop_words = text.ENGLISH_STOP_WORDS.union(['downvote', 'presence', 'prerequisite', 'preparing', \n",
    "                                                'present', 'upvote', 'provision', 'providing' ])"
   ]
  },
  {
   "cell_type": "code",
   "execution_count": 16,
   "metadata": {},
   "outputs": [],
   "source": [
    "# Instantiate TF-IDF vectorizer\n",
    "tfidf = TfidfVectorizer(max_features = 75000,\n",
    "                        stop_words = new_stop_words,\n",
    "                        max_df = 1.0,\n",
    "                        min_df = 0.0,\n",
    "                        ngram_range = (1,2))"
   ]
  },
  {
   "cell_type": "code",
   "execution_count": 17,
   "metadata": {},
   "outputs": [
    {
     "data": {
      "text/plain": [
       "(4236, 75000)"
      ]
     },
     "execution_count": 17,
     "metadata": {},
     "output_type": "execute_result"
    }
   ],
   "source": [
    "# Fit and transform training and test features\n",
    "X_train = tfidf.fit_transform(X_train['combined_text'])\n",
    "\n",
    "X_test = tfidf.transform(X_test['combined_text'])\n",
    "\n",
    "X_train.shape"
   ]
  },
  {
   "cell_type": "code",
   "execution_count": 18,
   "metadata": {},
   "outputs": [],
   "source": [
    "# Convert vectorizedarray to DataFrame\n",
    "X_train = pd.DataFrame(X_train.toarray(), columns=tfidf.get_feature_names())\n",
    "X_test = pd.DataFrame(X_test.toarray(), columns=tfidf.get_feature_names())"
   ]
  },
  {
   "cell_type": "code",
   "execution_count": 19,
   "metadata": {},
   "outputs": [
    {
     "data": {
      "text/plain": [
       "organization              0.348346\n",
       "area                      0.248048\n",
       "organization minnesota    0.223826\n",
       "organization looking      0.223826\n",
       "recommendation ml         0.223826\n",
       "paul area                 0.223826\n",
       "area just                 0.223826\n",
       "area looking              0.213344\n",
       "twin                      0.213344\n",
       "st paul                   0.213344\n",
       "ml organization           0.205908\n",
       "minneapolis               0.205908\n",
       "looking organization      0.205908\n",
       "looking                   0.194428\n",
       "looking recommendation    0.187989\n",
       "organization join         0.187989\n",
       "paul                      0.159590\n",
       "moved                     0.158534\n",
       "ml                        0.144515\n",
       "thanks advance            0.137229\n",
       "recommendation            0.133834\n",
       "st                        0.133439\n",
       "city                      0.124024\n",
       "advance                   0.121437\n",
       "join                      0.119085\n",
       "sure                      0.101735\n",
       "thanks                    0.097505\n",
       "just                      0.064885\n",
       "mean mean                 0.000000\n",
       "zygmunt bauman            0.000000\n",
       "                            ...   \n",
       "measured                  0.000000\n",
       "mean worker               0.000000\n",
       "mean work                 0.000000\n",
       "mean wont                 0.000000\n",
       "mean sound                0.000000\n",
       "mean publish              0.000000\n",
       "mean revolution           0.000000\n",
       "mean rule                 0.000000\n",
       "mean country              0.000000\n",
       "mean socialism            0.000000\n",
       "mean socialist            0.000000\n",
       "mean state                0.000000\n",
       "mean withering            0.000000\n",
       "mean subsistence          0.000000\n",
       "mean sure                 0.000000\n",
       "mean thing                0.000000\n",
       "mean think                0.000000\n",
       "mean upholding            0.000000\n",
       "mean using                0.000000\n",
       "mean cultural             0.000000\n",
       "mean add                  0.000000\n",
       "mean cause                0.000000\n",
       "max list                  0.000000\n",
       "mattick                   0.000000\n",
       "mature                    0.000000\n",
       "maturity                  0.000000\n",
       "maurice                   0.000000\n",
       "mawo                      0.000000\n",
       "max                       0.000000\n",
       "max stirner               0.000000\n",
       "Name: 0, Length: 100, dtype: float64"
      ]
     },
     "execution_count": 19,
     "metadata": {},
     "output_type": "execute_result"
    }
   ],
   "source": [
    "# Count most important training words\n",
    "X_train.iloc[0].sort_values(0, ascending = False).head(100)"
   ]
  },
  {
   "cell_type": "code",
   "execution_count": 20,
   "metadata": {},
   "outputs": [
    {
     "data": {
      "text/plain": [
       "rambo swarthy               0.0\n",
       "ramen                       0.0\n",
       "ramen empire                0.0\n",
       "ramification                0.0\n",
       "ramification significant    0.0\n",
       "ramjet                      0.0\n",
       "rally issue                 0.0\n",
       "rally houston               0.0\n",
       "raised concern              0.0\n",
       "rally gun                   0.0\n",
       "raised true                 0.0\n",
       "raised upper                0.0\n",
       "raised wealth               0.0\n",
       "raising                     0.0\n",
       "raising child               0.0\n",
       "raising class               0.0\n",
       "raising family              0.0\n",
       "raising king                0.0\n",
       "raising livestock           0.0\n",
       "raising living              0.0\n",
       "raising minimum             0.0\n",
       "raising number              0.0\n",
       "raising people              0.0\n",
       "raising red                 0.0\n",
       "raising rent                0.0\n",
       "raised standard             0.0\n",
       "raised roman                0.0\n",
       "raised right                0.0\n",
       "raised high                 0.0\n",
       "raised criticism            0.0\n",
       "                           ... \n",
       "rally arch                  0.0\n",
       "rally army                  0.0\n",
       "rally blantatly             0.0\n",
       "rally comrade               0.0\n",
       "rakosi supported            0.0\n",
       "rally deal                  0.0\n",
       "rally did                   0.0\n",
       "rally don                   0.0\n",
       "rally drug                  0.0\n",
       "rally force                 0.0\n",
       "rally general               0.0\n",
       "rallied                     0.0\n",
       "rakosi                      0.0\n",
       "raising white               0.0\n",
       "rajah datus                 0.0\n",
       "raiva                       0.0\n",
       "raiva oque                  0.0\n",
       "raiva pode                  0.0\n",
       "raj                         0.0\n",
       "raj khewa                   0.0\n",
       "rajah                       0.0\n",
       "rajputana                   0.0\n",
       "raketa ship                 0.0\n",
       "rajputana famine            0.0\n",
       "rak                         0.0\n",
       "rak gyom                    0.0\n",
       "raked                       0.0\n",
       "raked basic                 0.0\n",
       "raketa                      0.0\n",
       "___                         0.0\n",
       "Name: 0, Length: 80, dtype: float64"
      ]
     },
     "execution_count": 20,
     "metadata": {},
     "output_type": "execute_result"
    }
   ],
   "source": [
    "# Count least important training words\n",
    "X_train.iloc[0].sort_values(0, ascending = False).tail(80)"
   ]
  },
  {
   "cell_type": "markdown",
   "metadata": {},
   "source": [
    "## <font color = orchid> Vectorize Data (by Subreddit) </font>"
   ]
  },
  {
   "cell_type": "code",
   "execution_count": 21,
   "metadata": {},
   "outputs": [],
   "source": [
    "# Instantiate TF-IDF vectorizer for subreddit specific vectors\n",
    "tfidf_communism = TfidfVectorizer(max_features = 30000,\n",
    "                        stop_words = 'english',\n",
    "                        max_df = 1.0,\n",
    "                        min_df = 0.0,\n",
    "                        ngram_range = (1,2))\n",
    "\n",
    "# Instantiate TF-IDF vectorizer for subreddit specific vectors\n",
    "tfidf_socialism = TfidfVectorizer(max_features = 30000,\n",
    "                        stop_words = 'english',\n",
    "                        max_df = 1.0,\n",
    "                        min_df = 0.0,\n",
    "                        ngram_range = (1,2))"
   ]
  },
  {
   "cell_type": "code",
   "execution_count": 22,
   "metadata": {},
   "outputs": [],
   "source": [
    "# Extract vectors by subreddit topic\n",
    "df_communism_vectors = tfidf_communism.fit_transform(df_communism['combined_text'])\n",
    "df_socialism_vectors = tfidf_socialism.fit_transform(df_socialism['combined_text'])\n",
    "\n",
    "# Convert vectorized training array to DataFrame\n",
    "df_communism_vectors = pd.DataFrame(df_communism_vectors.toarray(), columns=tfidf_communism.get_feature_names())\n",
    "df_socialism_vectors = pd.DataFrame(df_socialism_vectors.toarray(), columns=tfidf_socialism.get_feature_names())"
   ]
  },
  {
   "cell_type": "code",
   "execution_count": 23,
   "metadata": {},
   "outputs": [
    {
     "data": {
      "text/plain": [
       "maybe yall             0.486788\n",
       "yee                    0.486788\n",
       "yall                   0.390658\n",
       "maybe                  0.274430\n",
       "got rid                0.231285\n",
       "plate                  0.231285\n",
       "ya                     0.192482\n",
       "rid                    0.192482\n",
       "survival               0.187493\n",
       "advice                 0.176160\n",
       "food                   0.142831\n",
       "got                    0.125972\n",
       "ideology               0.120870\n",
       "know active            0.000000\n",
       "knew work              0.000000\n",
       "klan                   0.000000\n",
       "know begin             0.000000\n",
       "klein                  0.000000\n",
       "km                     0.000000\n",
       "knee                   0.000000\n",
       "know basically         0.000000\n",
       "knew                   0.000000\n",
       "know basic             0.000000\n",
       "know ask               0.000000\n",
       "know                   0.000000\n",
       "know article           0.000000\n",
       "knife                  0.000000\n",
       "know answer            0.000000\n",
       "know amp               0.000000\n",
       "know actually          0.000000\n",
       "                         ...   \n",
       "lacking                0.000000\n",
       "labour owner           0.000000\n",
       "labour organisation    0.000000\n",
       "labour movement        0.000000\n",
       "labour measured        0.000000\n",
       "labor time             0.000000\n",
       "labor voucher          0.000000\n",
       "laborer                0.000000\n",
       "laborious              0.000000\n",
       "laborious job          0.000000\n",
       "labour                 0.000000\n",
       "labour appears         0.000000\n",
       "labour appropriated    0.000000\n",
       "labour camp            0.000000\n",
       "labour capacity        0.000000\n",
       "labour capital         0.000000\n",
       "labour command         0.000000\n",
       "labour constitutes     0.000000\n",
       "labour contains        0.000000\n",
       "labour exchange        0.000000\n",
       "labour exchanged       0.000000\n",
       "labour far             0.000000\n",
       "labour follows         0.000000\n",
       "labour ha              0.000000\n",
       "labour human           0.000000\n",
       "labour just            0.000000\n",
       "labour labourer        0.000000\n",
       "labour like            0.000000\n",
       "labour make            0.000000\n",
       "labour marx            0.000000\n",
       "Name: 0, Length: 300, dtype: float64"
      ]
     },
     "execution_count": 23,
     "metadata": {},
     "output_type": "execute_result"
    }
   ],
   "source": [
    "# Sort on most important words for communism\n",
    "df_communism_vectors.iloc[0].sort_values(0, ascending = False).head(300)"
   ]
  },
  {
   "cell_type": "code",
   "execution_count": 24,
   "metadata": {},
   "outputs": [
    {
     "data": {
      "text/plain": [
       "need guide               0.339737\n",
       "pinochet                 0.327430\n",
       "good luck                0.310084\n",
       "scum                     0.292738\n",
       "plane                    0.292738\n",
       "excited                  0.288231\n",
       "luck                     0.273837\n",
       "pushed                   0.268124\n",
       "commie                   0.265531\n",
       "guide                    0.258578\n",
       "survive                  0.249032\n",
       "pretty                   0.173831\n",
       "thought                  0.133872\n",
       "need                     0.132056\n",
       "good                     0.122090\n",
       "group real               0.000000\n",
       "group let                0.000000\n",
       "group like               0.000000\n",
       "group ll                 0.000000\n",
       "group local              0.000000\n",
       "group located            0.000000\n",
       "group loyalty            0.000000\n",
       "group make               0.000000\n",
       "group possible           0.000000\n",
       "group marx               0.000000\n",
       "group read               0.000000\n",
       "group labelled           0.000000\n",
       "group member             0.000000\n",
       "group near               0.000000\n",
       "group obviously          0.000000\n",
       "                           ...   \n",
       "guarantee survival       0.000000\n",
       "guaranteed               0.000000\n",
       "guaranteed employment    0.000000\n",
       "guard                    0.000000\n",
       "guardian                 0.000000\n",
       "guarimba                 0.000000\n",
       "guarimba insurrection    0.000000\n",
       "guattari                 0.000000\n",
       "guerilla                 0.000000\n",
       "guerin                   0.000000\n",
       "guerrilla                0.000000\n",
       "guess                    0.000000\n",
       "guess demand             0.000000\n",
       "guess don                0.000000\n",
       "guess having             0.000000\n",
       "guess just               0.000000\n",
       "guess like               0.000000\n",
       "guess ll                 0.000000\n",
       "guess question           0.000000\n",
       "guess say                0.000000\n",
       "guess totally            0.000000\n",
       "guess wa                 0.000000\n",
       "guessed                  0.000000\n",
       "guessing                 0.000000\n",
       "guarantee                0.000000\n",
       "growth worker            0.000000\n",
       "group southeast          0.000000\n",
       "growth occur             0.000000\n",
       "group study              0.000000\n",
       "grit                     0.000000\n",
       "Name: 0, Length: 100, dtype: float64"
      ]
     },
     "execution_count": 24,
     "metadata": {},
     "output_type": "execute_result"
    }
   ],
   "source": [
    "# Sort on most important words for socialism\n",
    "df_socialism_vectors.iloc[0].sort_values(0, ascending = False).head(100)"
   ]
  },
  {
   "cell_type": "markdown",
   "metadata": {},
   "source": [
    "## <font color = orchid> Logistic Regression </font>"
   ]
  },
  {
   "cell_type": "code",
   "execution_count": 25,
   "metadata": {},
   "outputs": [
    {
     "name": "stderr",
     "output_type": "stream",
     "text": [
      "/Users/ashleywhite/anaconda3/lib/python3.6/site-packages/sklearn/linear_model/logistic.py:432: FutureWarning: Default solver will be changed to 'lbfgs' in 0.22. Specify a solver to silence this warning.\n",
      "  FutureWarning)\n"
     ]
    }
   ],
   "source": [
    "# Instantiate and fit Logistic Regression\n",
    "log_reg = LogisticRegression(penalty = 'l2', C = 1.0).fit(X_train, y_train)"
   ]
  },
  {
   "cell_type": "code",
   "execution_count": 26,
   "metadata": {},
   "outputs": [
    {
     "name": "stderr",
     "output_type": "stream",
     "text": [
      "/Users/ashleywhite/anaconda3/lib/python3.6/site-packages/sklearn/model_selection/_split.py:1943: FutureWarning: You should specify a value for 'cv' instead of relying on the default value. The default value will change from 3 to 5 in version 0.22.\n",
      "  warnings.warn(CV_WARNING, FutureWarning)\n",
      "[Parallel(n_jobs=1)]: Using backend SequentialBackend with 1 concurrent workers.\n",
      "/Users/ashleywhite/anaconda3/lib/python3.6/site-packages/sklearn/linear_model/logistic.py:432: FutureWarning: Default solver will be changed to 'lbfgs' in 0.22. Specify a solver to silence this warning.\n",
      "  FutureWarning)\n",
      "/Users/ashleywhite/anaconda3/lib/python3.6/site-packages/sklearn/linear_model/logistic.py:432: FutureWarning: Default solver will be changed to 'lbfgs' in 0.22. Specify a solver to silence this warning.\n",
      "  FutureWarning)\n",
      "/Users/ashleywhite/anaconda3/lib/python3.6/site-packages/sklearn/linear_model/logistic.py:432: FutureWarning: Default solver will be changed to 'lbfgs' in 0.22. Specify a solver to silence this warning.\n",
      "  FutureWarning)\n",
      "[Parallel(n_jobs=1)]: Done   3 out of   3 | elapsed:   34.5s finished\n",
      "/Users/ashleywhite/anaconda3/lib/python3.6/site-packages/sklearn/model_selection/_split.py:1943: FutureWarning: You should specify a value for 'cv' instead of relying on the default value. The default value will change from 3 to 5 in version 0.22.\n",
      "  warnings.warn(CV_WARNING, FutureWarning)\n",
      "[Parallel(n_jobs=1)]: Using backend SequentialBackend with 1 concurrent workers.\n"
     ]
    },
    {
     "name": "stdout",
     "output_type": "stream",
     "text": [
      "0.7530675130270642\n"
     ]
    },
    {
     "name": "stderr",
     "output_type": "stream",
     "text": [
      "/Users/ashleywhite/anaconda3/lib/python3.6/site-packages/sklearn/linear_model/logistic.py:432: FutureWarning: Default solver will be changed to 'lbfgs' in 0.22. Specify a solver to silence this warning.\n",
      "  FutureWarning)\n",
      "/Users/ashleywhite/anaconda3/lib/python3.6/site-packages/sklearn/linear_model/logistic.py:432: FutureWarning: Default solver will be changed to 'lbfgs' in 0.22. Specify a solver to silence this warning.\n",
      "  FutureWarning)\n",
      "/Users/ashleywhite/anaconda3/lib/python3.6/site-packages/sklearn/linear_model/logistic.py:432: FutureWarning: Default solver will be changed to 'lbfgs' in 0.22. Specify a solver to silence this warning.\n",
      "  FutureWarning)\n"
     ]
    },
    {
     "name": "stdout",
     "output_type": "stream",
     "text": [
      "0.7374703598469622\n"
     ]
    },
    {
     "name": "stderr",
     "output_type": "stream",
     "text": [
      "[Parallel(n_jobs=1)]: Done   3 out of   3 | elapsed:    3.4s finished\n"
     ]
    }
   ],
   "source": [
    "print(cross_val_score(log_reg, X_train, y_train, verbose=1).mean())\n",
    "\n",
    "print(cross_val_score(log_reg, X_test, y_test, verbose=1).mean())"
   ]
  },
  {
   "cell_type": "code",
   "execution_count": 27,
   "metadata": {},
   "outputs": [
    {
     "data": {
      "image/png": "[encoded data removed]",
      "text/plain": [
       "<Figure size 432x288 with 1 Axes>"
      ]
     },
     "metadata": {
      "needs_background": "light"
     },
     "output_type": "display_data"
    }
   ],
   "source": [
    "from sklearn.metrics import roc_curve, auc, roc_auc_score\n",
    "import matplotlib.pyplot as plt\n",
    "\n",
    "%matplotlib inline\n",
    "\n",
    "# Generate prediction probablities\n",
    "y_test_proba = log_reg.predict_proba(X_test)\n",
    "\n",
    "y_test_proba = y_test_proba[:,1]\n",
    "\n",
    "# Generate False positive rate and True positive rate\n",
    "fpr, tpr, _ = roc_curve(y_test, y_test_proba)\n",
    "roc_auc = auc(fpr, tpr)\n",
    "\n",
    "# Plot  - Code Borrowed from Dave Yerrington Lecture\n",
    "plt.figure()\n",
    "line_width = 3\n",
    "\n",
    "plt.plot(fpr, tpr, lw = line_width, color=\"darkorange\", label = \"ROC Curve %.2f\" % roc_auc)\n",
    "plt.plot([0,1], [0, 1], lw = line_width, linestyle=\"--\", color=\"navy\")\n",
    "\n",
    "plt.xlim([0.0, 1.0])\n",
    "plt.ylim([0.0, 1.05])\n",
    "plt.xlabel('False Positive Rate')\n",
    "plt.ylabel('True Positive Rate')\n",
    "plt.title('ROC')\n",
    "plt.legend(loc=\"lower right\")\n",
    "plt.show()"
   ]
  },
  {
   "cell_type": "markdown",
   "metadata": {},
   "source": [
    "## <font color = orchid> Random Forest </font>"
   ]
  },
  {
   "cell_type": "code",
   "execution_count": 28,
   "metadata": {},
   "outputs": [],
   "source": [
    "# Instantiate and fit Random Forest\n",
    "rf = RandomForestClassifier(n_estimators = 150,).fit(X_train, y_train)"
   ]
  },
  {
   "cell_type": "code",
   "execution_count": 30,
   "metadata": {
    "scrolled": true
   },
   "outputs": [
    {
     "name": "stderr",
     "output_type": "stream",
     "text": [
      "/Users/ashleywhite/anaconda3/lib/python3.6/site-packages/sklearn/model_selection/_split.py:1943: FutureWarning: You should specify a value for 'cv' instead of relying on the default value. The default value will change from 3 to 5 in version 0.22.\n",
      "  warnings.warn(CV_WARNING, FutureWarning)\n",
      "[Parallel(n_jobs=1)]: Using backend SequentialBackend with 1 concurrent workers.\n"
     ]
    },
    {
     "name": "stdout",
     "output_type": "stream",
     "text": [
      "[CV]  ................................................................\n",
      "[CV] ................................................. , total= 3.8min\n",
      "[CV]  ................................................................\n"
     ]
    },
    {
     "name": "stderr",
     "output_type": "stream",
     "text": [
      "[Parallel(n_jobs=1)]: Done   1 out of   1 | elapsed:  3.8min remaining:    0.0s\n"
     ]
    },
    {
     "name": "stdout",
     "output_type": "stream",
     "text": [
      "[CV] ................................................. , total= 3.7min\n",
      "[CV]  ................................................................\n",
      "[CV] ................................................. , total= 3.7min\n",
      "0.7263895548119365\n",
      "[CV]  ................................................................\n"
     ]
    },
    {
     "name": "stderr",
     "output_type": "stream",
     "text": [
      "[Parallel(n_jobs=1)]: Done   3 out of   3 | elapsed: 11.2min finished\n",
      "/Users/ashleywhite/anaconda3/lib/python3.6/site-packages/sklearn/model_selection/_split.py:1943: FutureWarning: You should specify a value for 'cv' instead of relying on the default value. The default value will change from 3 to 5 in version 0.22.\n",
      "  warnings.warn(CV_WARNING, FutureWarning)\n",
      "[Parallel(n_jobs=1)]: Using backend SequentialBackend with 1 concurrent workers.\n"
     ]
    },
    {
     "name": "stdout",
     "output_type": "stream",
     "text": [
      "[CV] ................................................. , total=  46.1s\n",
      "[CV]  ................................................................\n"
     ]
    },
    {
     "name": "stderr",
     "output_type": "stream",
     "text": [
      "[Parallel(n_jobs=1)]: Done   1 out of   1 | elapsed:   46.1s remaining:    0.0s\n"
     ]
    },
    {
     "name": "stdout",
     "output_type": "stream",
     "text": [
      "[CV] ................................................. , total=  41.0s\n",
      "[CV]  ................................................................\n",
      "[CV] ................................................. , total=  40.8s\n",
      "0.722569245854462\n"
     ]
    },
    {
     "name": "stderr",
     "output_type": "stream",
     "text": [
      "[Parallel(n_jobs=1)]: Done   3 out of   3 | elapsed:  2.1min finished\n"
     ]
    }
   ],
   "source": [
    "print(cross_val_score(rf, X_train, y_train, verbose = 2).mean())\n",
    "\n",
    "print(cross_val_score(rf, X_test, y_test, verbose = 2).mean())"
   ]
  },
  {
   "cell_type": "code",
   "execution_count": 32,
   "metadata": {},
   "outputs": [
    {
     "name": "stderr",
     "output_type": "stream",
     "text": [
      "/Users/ashleywhite/anaconda3/lib/python3.6/site-packages/sklearn/model_selection/_split.py:1943: FutureWarning: You should specify a value for 'cv' instead of relying on the default value. The default value will change from 3 to 5 in version 0.22.\n",
      "  warnings.warn(CV_WARNING, FutureWarning)\n",
      "[Parallel(n_jobs=1)]: Using backend SequentialBackend with 1 concurrent workers.\n"
     ]
    },
    {
     "name": "stdout",
     "output_type": "stream",
     "text": [
      "Fitting 3 folds for each of 2 candidates, totalling 6 fits\n",
      "[CV] criterion=gini, n_estimators=300 ................................\n",
      "[CV] ................. criterion=gini, n_estimators=300, total= 7.3min\n"
     ]
    },
    {
     "name": "stderr",
     "output_type": "stream",
     "text": [
      "[Parallel(n_jobs=1)]: Done   1 out of   1 | elapsed:  7.4min remaining:    0.0s\n"
     ]
    },
    {
     "name": "stdout",
     "output_type": "stream",
     "text": [
      "[CV] criterion=gini, n_estimators=300 ................................\n",
      "[CV] ................. criterion=gini, n_estimators=300, total= 7.4min\n",
      "[CV] criterion=gini, n_estimators=300 ................................\n",
      "[CV] ................. criterion=gini, n_estimators=300, total=60.6min\n",
      "[CV] criterion=entropy, n_estimators=300 .............................\n",
      "[CV] .............. criterion=entropy, n_estimators=300, total= 6.5min\n",
      "[CV] criterion=entropy, n_estimators=300 .............................\n",
      "[CV] .............. criterion=entropy, n_estimators=300, total=89.0min\n",
      "[CV] criterion=entropy, n_estimators=300 .............................\n",
      "[CV] .............. criterion=entropy, n_estimators=300, total= 8.4min\n"
     ]
    },
    {
     "name": "stderr",
     "output_type": "stream",
     "text": [
      "[Parallel(n_jobs=1)]: Done   6 out of   6 | elapsed: 180.0min finished\n"
     ]
    }
   ],
   "source": [
    "params_grid = [{'n_estimators': [300],\n",
    "                'criterion': ['gini','entropy'],\n",
    "               }]\n",
    "\n",
    "grid = GridSearchCV(rf, params_grid, verbose = 2).fit(X_train, y_train)"
   ]
  },
  {
   "cell_type": "code",
   "execution_count": 33,
   "metadata": {},
   "outputs": [
    {
     "data": {
      "text/plain": [
       "0.7346553352219075"
      ]
     },
     "execution_count": 33,
     "metadata": {},
     "output_type": "execute_result"
    }
   ],
   "source": [
    "grid.best_score_"
   ]
  },
  {
   "cell_type": "code",
   "execution_count": 34,
   "metadata": {},
   "outputs": [
    {
     "data": {
      "text/plain": [
       "{'criterion': 'entropy', 'n_estimators': 300}"
      ]
     },
     "execution_count": 34,
     "metadata": {},
     "output_type": "execute_result"
    }
   ],
   "source": [
    "grid.best_params_"
   ]
  },
  {
   "cell_type": "code",
   "execution_count": 35,
   "metadata": {},
   "outputs": [],
   "source": [
    "# Generate prediction probablities\n",
    "y_test_proba = grid.predict_proba(X_test)\n",
    "\n",
    "y_test_proba = y_test_proba[:,1]"
   ]
  },
  {
   "cell_type": "code",
   "execution_count": 36,
   "metadata": {},
   "outputs": [],
   "source": [
    "# Generate False positive rate and True positive rate\n",
    "fpr, tpr, _ = roc_curve(y_test, y_test_proba)\n",
    "roc_auc = auc(fpr, tpr)"
   ]
  },
  {
   "cell_type": "code",
   "execution_count": 37,
   "metadata": {},
   "outputs": [
    {
     "data": {
      "image/png": "[encoded data removed]",
      "text/plain": [
       "<Figure size 432x288 with 1 Axes>"
      ]
     },
     "metadata": {
      "needs_background": "light"
     },
     "output_type": "display_data"
    }
   ],
   "source": [
    "# Plot  - Code Borrowed from Dave Yerrington Lecture\n",
    "plt.figure()\n",
    "line_width = 3\n",
    "\n",
    "plt.plot(fpr, tpr, lw = line_width, color=\"darkorange\", label = \"ROC Curve %.2f\" % roc_auc)\n",
    "plt.plot([0,1], [0, 1], lw = line_width, linestyle=\"--\", color=\"navy\")\n",
    "\n",
    "plt.xlim([0.0, 1.0])\n",
    "plt.ylim([0.0, 1.05])\n",
    "plt.xlabel('False Positive Rate')\n",
    "plt.ylabel('True Positive Rate')\n",
    "plt.title('ROC')\n",
    "plt.legend(loc=\"lower right\")\n",
    "plt.show()"
   ]
  }
 ],
 "metadata": {
  "kernelspec": {
   "display_name": "Python 3",
   "language": "python",
   "name": "python3"
  },
  "language_info": {
   "codemirror_mode": {
    "name": "ipython",
    "version": 3
   },
   "file_extension": ".py",
   "mimetype": "text/x-python",
   "name": "python",
   "nbconvert_exporter": "python",
   "pygments_lexer": "ipython3",
   "version": "3.6.6"
  }
 },
 "nbformat": 4,
 "nbformat_minor": 2
}
