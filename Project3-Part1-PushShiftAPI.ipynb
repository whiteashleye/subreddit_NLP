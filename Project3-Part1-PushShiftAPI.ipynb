{
 "cells": [
  {
   "cell_type": "code",
   "execution_count": 1,
   "metadata": {},
   "outputs": [],
   "source": [
    "import pandas as pd\n",
    "import requests \n",
    "import time\n",
    "import datetime as dt"
   ]
  },
  {
   "cell_type": "code",
   "execution_count": 2,
   "metadata": {},
   "outputs": [],
   "source": [
    "# Define fuction to pull subreddit submissions and pull fields from 'subfield'\n",
    "def query_pushshift(subreddit, kind='submission', skip=30, times=10, \n",
    "                    subfield = ['title', 'selftext', 'subreddit', 'created_utc', 'author', 'num_comments', 'score', 'is_self'],\n",
    "                    comfields = ['body', 'score', 'created_utc']):\n",
    "\n",
    "    # Create stem of PushShift API URL + kind and subreddit name\n",
    "    stem = \"https://api.pushshift.io/reddit/search/{}/?subreddit={}&size=500\".format(kind, subreddit)\n",
    "    mylist = []\n",
    "    \n",
    "    # Create for loop from 1 to times (specified in )\n",
    "    for x in range(1, times):\n",
    "        \n",
    "        URL = \"{}&after={}d\".format(stem, skip * x)\n",
    "        print(URL)\n",
    "        response = requests.get(URL)\n",
    "        assert response.status_code == 200\n",
    "        mine = response.json()['data']\n",
    "        df = pd.DataFrame.from_dict(mine)\n",
    "        mylist.append(df)\n",
    "        time.sleep(2)\n",
    "    # Compile all posts into full list    \n",
    "    full = pd.concat(mylist, sort=False)\n",
    "    \n",
    "    if kind == \"submission\":\n",
    "        \n",
    "        full = full[subfield]\n",
    "        \n",
    "        full = full.drop_duplicates()\n",
    "        \n",
    "        full = full.loc[full['is_self'] == True]\n",
    "    # Transform UTC into date    \n",
    "    def get_date(created):\n",
    "        return dt.date.fromtimestamp(created)\n",
    "    \n",
    "    _timestamp = full[\"created_utc\"].apply(get_date)\n",
    "    \n",
    "    full['timestamp'] = _timestamp\n",
    "\n",
    "    print(full.shape)\n",
    "    \n",
    "    return full "
   ]
  },
  {
   "cell_type": "code",
   "execution_count": 3,
   "metadata": {},
   "outputs": [
    {
     "name": "stdout",
     "output_type": "stream",
     "text": [
      "https://api.pushshift.io/reddit/search/submission/?subreddit=Socialism&size=500&after=60d\n",
      "https://api.pushshift.io/reddit/search/submission/?subreddit=Socialism&size=500&after=120d\n",
      "https://api.pushshift.io/reddit/search/submission/?subreddit=Socialism&size=500&after=180d\n",
      "https://api.pushshift.io/reddit/search/submission/?subreddit=Socialism&size=500&after=240d\n",
      "https://api.pushshift.io/reddit/search/submission/?subreddit=Socialism&size=500&after=300d\n",
      "https://api.pushshift.io/reddit/search/submission/?subreddit=Socialism&size=500&after=360d\n",
      "https://api.pushshift.io/reddit/search/submission/?subreddit=Socialism&size=500&after=420d\n",
      "https://api.pushshift.io/reddit/search/submission/?subreddit=Socialism&size=500&after=480d\n",
      "https://api.pushshift.io/reddit/search/submission/?subreddit=Socialism&size=500&after=540d\n",
      "https://api.pushshift.io/reddit/search/submission/?subreddit=Socialism&size=500&after=600d\n",
      "https://api.pushshift.io/reddit/search/submission/?subreddit=Socialism&size=500&after=660d\n",
      "https://api.pushshift.io/reddit/search/submission/?subreddit=Socialism&size=500&after=720d\n",
      "https://api.pushshift.io/reddit/search/submission/?subreddit=Socialism&size=500&after=780d\n",
      "https://api.pushshift.io/reddit/search/submission/?subreddit=Socialism&size=500&after=840d\n",
      "https://api.pushshift.io/reddit/search/submission/?subreddit=Socialism&size=500&after=900d\n",
      "https://api.pushshift.io/reddit/search/submission/?subreddit=Socialism&size=500&after=960d\n",
      "https://api.pushshift.io/reddit/search/submission/?subreddit=Socialism&size=500&after=1020d\n",
      "https://api.pushshift.io/reddit/search/submission/?subreddit=Socialism&size=500&after=1080d\n",
      "https://api.pushshift.io/reddit/search/submission/?subreddit=Socialism&size=500&after=1140d\n",
      "https://api.pushshift.io/reddit/search/submission/?subreddit=Socialism&size=500&after=1200d\n",
      "https://api.pushshift.io/reddit/search/submission/?subreddit=Socialism&size=500&after=1260d\n",
      "https://api.pushshift.io/reddit/search/submission/?subreddit=Socialism&size=500&after=1320d\n",
      "https://api.pushshift.io/reddit/search/submission/?subreddit=Socialism&size=500&after=1380d\n",
      "https://api.pushshift.io/reddit/search/submission/?subreddit=Socialism&size=500&after=1440d\n",
      "https://api.pushshift.io/reddit/search/submission/?subreddit=Socialism&size=500&after=1500d\n",
      "https://api.pushshift.io/reddit/search/submission/?subreddit=Socialism&size=500&after=1560d\n",
      "https://api.pushshift.io/reddit/search/submission/?subreddit=Socialism&size=500&after=1620d\n",
      "https://api.pushshift.io/reddit/search/submission/?subreddit=Socialism&size=500&after=1680d\n",
      "https://api.pushshift.io/reddit/search/submission/?subreddit=Socialism&size=500&after=1740d\n",
      "(3912, 9)\n"
     ]
    },
    {
     "data": {
      "text/plain": [
       "(3912, 9)"
      ]
     },
     "execution_count": 3,
     "metadata": {},
     "output_type": "execute_result"
    }
   ],
   "source": [
    "socialsm = query_pushshift('Socialism', skip = 60, times = 30)\n",
    "socialsm.shape"
   ]
  },
  {
   "cell_type": "code",
   "execution_count": 4,
   "metadata": {},
   "outputs": [
    {
     "name": "stdout",
     "output_type": "stream",
     "text": [
      "https://api.pushshift.io/reddit/search/submission/?subreddit=Communism&size=500&after=30d\n",
      "https://api.pushshift.io/reddit/search/submission/?subreddit=Communism&size=500&after=60d\n",
      "https://api.pushshift.io/reddit/search/submission/?subreddit=Communism&size=500&after=90d\n",
      "https://api.pushshift.io/reddit/search/submission/?subreddit=Communism&size=500&after=120d\n",
      "https://api.pushshift.io/reddit/search/submission/?subreddit=Communism&size=500&after=150d\n",
      "https://api.pushshift.io/reddit/search/submission/?subreddit=Communism&size=500&after=180d\n",
      "https://api.pushshift.io/reddit/search/submission/?subreddit=Communism&size=500&after=210d\n",
      "https://api.pushshift.io/reddit/search/submission/?subreddit=Communism&size=500&after=240d\n",
      "https://api.pushshift.io/reddit/search/submission/?subreddit=Communism&size=500&after=270d\n",
      "https://api.pushshift.io/reddit/search/submission/?subreddit=Communism&size=500&after=300d\n",
      "https://api.pushshift.io/reddit/search/submission/?subreddit=Communism&size=500&after=330d\n",
      "https://api.pushshift.io/reddit/search/submission/?subreddit=Communism&size=500&after=360d\n",
      "https://api.pushshift.io/reddit/search/submission/?subreddit=Communism&size=500&after=390d\n",
      "https://api.pushshift.io/reddit/search/submission/?subreddit=Communism&size=500&after=420d\n",
      "https://api.pushshift.io/reddit/search/submission/?subreddit=Communism&size=500&after=450d\n",
      "https://api.pushshift.io/reddit/search/submission/?subreddit=Communism&size=500&after=480d\n",
      "https://api.pushshift.io/reddit/search/submission/?subreddit=Communism&size=500&after=510d\n",
      "https://api.pushshift.io/reddit/search/submission/?subreddit=Communism&size=500&after=540d\n",
      "https://api.pushshift.io/reddit/search/submission/?subreddit=Communism&size=500&after=570d\n",
      "(3602, 9)\n"
     ]
    },
    {
     "data": {
      "text/plain": [
       "(3602, 9)"
      ]
     },
     "execution_count": 4,
     "metadata": {},
     "output_type": "execute_result"
    }
   ],
   "source": [
    "communism = query_pushshift('Communism', skip = 30, times = 20)\n",
    "communism.shape"
   ]
  },
  {
   "cell_type": "code",
   "execution_count": 5,
   "metadata": {},
   "outputs": [
    {
     "data": {
      "text/plain": [
       "socialism    0.520628\n",
       "communism    0.479372\n",
       "Name: subreddit, dtype: float64"
      ]
     },
     "execution_count": 5,
     "metadata": {},
     "output_type": "execute_result"
    }
   ],
   "source": [
    "# Concat seperate df pulls\n",
    "communism_socialism_combined = pd.concat([communism, socialsm])\n",
    "# Display proportions\n",
    "communism_socialism_combined['subreddit'].value_counts(normalize = True)"
   ]
  },
  {
   "cell_type": "code",
   "execution_count": 6,
   "metadata": {},
   "outputs": [
    {
     "data": {
      "text/html": [
       "<div>\n",
       "<style scoped>\n",
       "    .dataframe tbody tr th:only-of-type {\n",
       "        vertical-align: middle;\n",
       "    }\n",
       "\n",
       "    .dataframe tbody tr th {\n",
       "        vertical-align: top;\n",
       "    }\n",
       "\n",
       "    .dataframe thead th {\n",
       "        text-align: right;\n",
       "    }\n",
       "</style>\n",
       "<table border=\"1\" class=\"dataframe\">\n",
       "  <thead>\n",
       "    <tr style=\"text-align: right;\">\n",
       "      <th></th>\n",
       "      <th>title</th>\n",
       "      <th>selftext</th>\n",
       "      <th>subreddit</th>\n",
       "      <th>created_utc</th>\n",
       "      <th>author</th>\n",
       "      <th>num_comments</th>\n",
       "      <th>score</th>\n",
       "      <th>is_self</th>\n",
       "      <th>timestamp</th>\n",
       "    </tr>\n",
       "  </thead>\n",
       "  <tbody>\n",
       "    <tr>\n",
       "      <th>1</th>\n",
       "      <td>Why do communists hate the government?</td>\n",
       "      <td></td>\n",
       "      <td>communism</td>\n",
       "      <td>1543448391</td>\n",
       "      <td>Akimbo24</td>\n",
       "      <td>1</td>\n",
       "      <td>1</td>\n",
       "      <td>True</td>\n",
       "      <td>2018-11-28</td>\n",
       "    </tr>\n",
       "    <tr>\n",
       "      <th>2</th>\n",
       "      <td>Survival advice</td>\n",
       "      <td>Maybe if yall got rid of that yee yee ass ideo...</td>\n",
       "      <td>communism</td>\n",
       "      <td>1543449286</td>\n",
       "      <td>authisthicc</td>\n",
       "      <td>0</td>\n",
       "      <td>1</td>\n",
       "      <td>True</td>\n",
       "      <td>2018-11-28</td>\n",
       "    </tr>\n",
       "    <tr>\n",
       "      <th>5</th>\n",
       "      <td>Does communist country music exist?</td>\n",
       "      <td></td>\n",
       "      <td>communism</td>\n",
       "      <td>1543451424</td>\n",
       "      <td>zzzergling</td>\n",
       "      <td>6</td>\n",
       "      <td>1</td>\n",
       "      <td>True</td>\n",
       "      <td>2018-11-28</td>\n",
       "    </tr>\n",
       "    <tr>\n",
       "      <th>8</th>\n",
       "      <td>Chinese voting</td>\n",
       "      <td>To preface, I don't really hold any strong opi...</td>\n",
       "      <td>communism</td>\n",
       "      <td>1543455393</td>\n",
       "      <td>TheBeninator</td>\n",
       "      <td>1</td>\n",
       "      <td>1</td>\n",
       "      <td>True</td>\n",
       "      <td>2018-11-28</td>\n",
       "    </tr>\n",
       "    <tr>\n",
       "      <th>11</th>\n",
       "      <td>What's up with Vietnam and Laos?</td>\n",
       "      <td>We hear so much talk about China, and rightful...</td>\n",
       "      <td>communism</td>\n",
       "      <td>1543462674</td>\n",
       "      <td>DoctorWasdarb</td>\n",
       "      <td>20</td>\n",
       "      <td>1</td>\n",
       "      <td>True</td>\n",
       "      <td>2018-11-28</td>\n",
       "    </tr>\n",
       "  </tbody>\n",
       "</table>\n",
       "</div>"
      ],
      "text/plain": [
       "                                     title  \\\n",
       "1   Why do communists hate the government?   \n",
       "2                          Survival advice   \n",
       "5      Does communist country music exist?   \n",
       "8                           Chinese voting   \n",
       "11        What's up with Vietnam and Laos?   \n",
       "\n",
       "                                             selftext  subreddit  created_utc  \\\n",
       "1                                                      communism   1543448391   \n",
       "2   Maybe if yall got rid of that yee yee ass ideo...  communism   1543449286   \n",
       "5                                                      communism   1543451424   \n",
       "8   To preface, I don't really hold any strong opi...  communism   1543455393   \n",
       "11  We hear so much talk about China, and rightful...  communism   1543462674   \n",
       "\n",
       "           author  num_comments  score  is_self   timestamp  \n",
       "1        Akimbo24             1      1     True  2018-11-28  \n",
       "2     authisthicc             0      1     True  2018-11-28  \n",
       "5      zzzergling             6      1     True  2018-11-28  \n",
       "8    TheBeninator             1      1     True  2018-11-28  \n",
       "11  DoctorWasdarb            20      1     True  2018-11-28  "
      ]
     },
     "execution_count": 6,
     "metadata": {},
     "output_type": "execute_result"
    }
   ],
   "source": [
    "communism_socialism_combined.head()"
   ]
  },
  {
   "cell_type": "code",
   "execution_count": 7,
   "metadata": {},
   "outputs": [],
   "source": [
    "# Save combined dataframes to csv\n",
    "communism_socialism_combined.to_csv('./communism_socialism.csv')"
   ]
  }
 ],
 "metadata": {
  "kernelspec": {
   "display_name": "Python 3",
   "language": "python",
   "name": "python3"
  },
  "language_info": {
   "codemirror_mode": {
    "name": "ipython",
    "version": 3
   },
   "file_extension": ".py",
   "mimetype": "text/x-python",
   "name": "python",
   "nbconvert_exporter": "python",
   "pygments_lexer": "ipython3",
   "version": "3.6.6"
  }
 },
 "nbformat": 4,
 "nbformat_minor": 2
}
